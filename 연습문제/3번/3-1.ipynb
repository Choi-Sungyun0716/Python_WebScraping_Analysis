{
 "cells": [
  {
   "cell_type": "code",
   "execution_count": 25,
   "id": "978f7b8e",
   "metadata": {},
   "outputs": [],
   "source": [
    "import requests\n",
    "import os\n",
    "import json\n",
    "from dotenv import load_dotenv\n",
    "from pprint import pprint\n",
    "\n",
    "\n",
    "def search_books(query):   \n",
    "    # .env 파일에서 환경 변수 로드\n",
    "    load_dotenv()\n",
    "\n",
    "    # 환경 변수에서 값 읽기\n",
    "    client_id = os.getenv(\"NAVER_CLIENT_ID\")  # .env 파일의 NAVER_CLIENT_ID\n",
    "    client_secret = os.getenv(\"NAVER_CLIENT_SECRET\")  # .env 파일의 NAVER_CLIENT_SECRET\n",
    "\n",
    "    # query string 문자열을 dict 선언\n",
    "\n",
    "    payload = {\n",
    "    'query':  query, #'파이썬',\n",
    "    'display': 50,\n",
    "    'sort': 'sim'\n",
    "    }\n",
    "\n",
    "    headers = {\n",
    "    'X-Naver-Client-Id': client_id,\n",
    "    'X-Naver-Client-Secret': client_secret,\n",
    "    }\n",
    "\n",
    "    url = 'https://openapi.naver.com/v1/search/book.json'\n",
    "   \n",
    "   # requests get(url, params, headers) 요청 \n",
    "    res = requests.get(url, params=payload, headers=headers)\n",
    "   # json() 함수로 응답 결과 가져오기\n",
    "    items_data = res.json()['items'] \n",
    "\n",
    "    #print(len(items_data), type(items_data), type(items_data[0]))\n",
    "    \n",
    "\n",
    "    items_list = list()\n",
    "    item_list = []\n",
    "    for item in items_data:\n",
    "        #print(item)\n",
    "        item_list.append(item['title'])\n",
    "        item_list.append(item['publisher'])\n",
    "        item_list.append(item['pubdate'])\n",
    "        item_list.append(item['link'])\n",
    "        item_list.append(item['isbn'])\n",
    "        item_list.append(item['image'])\n",
    "        item_list.append(item['discount'])\n",
    "        item_list.append(item['description'])\n",
    "        item_list.append(item['author'])\n",
    "\n",
    "        items_list.append(item_list)\n",
    "        item_list = []\n",
    "\n",
    "    #print(items_list)\n",
    "    \n",
    "    make_json(items_data)\n",
    "    \n",
    "    \n"
   ]
  },
  {
   "cell_type": "code",
   "execution_count": 4,
   "id": "bc3f92da",
   "metadata": {},
   "outputs": [],
   "source": [
    "def make_json(items_data):\n",
    "    if not os.path.isdir(\"data\"):\n",
    "                os.makedirs(\"data\")\n",
    "        \n",
    "    with open(\"data/books.json\", \"w\", encoding='utf-8') as file:\n",
    "        json.dump(items_data, file)"
   ]
  },
  {
   "cell_type": "code",
   "execution_count": null,
   "id": "2e7392eb",
   "metadata": {},
   "outputs": [],
   "source": [
    "import pandas as pd\n",
    "\n",
    "def make_df():\n",
    "    book_df = pd.read_json(\"data/books.json\")\n",
    "    \n",
    "    return book_df\n",
    "    \n",
    "\n",
    "\n"
   ]
  },
  {
   "cell_type": "code",
   "execution_count": 71,
   "id": "cc14342f",
   "metadata": {},
   "outputs": [],
   "source": [
    "\n",
    "def search_over20000(book_name):\n",
    "    search_books(book_name)\n",
    "    book_df = make_df()\n",
    "    result = book_df.loc[book_df[\"discount\"] >= 20000, [\"title\",\"author\",\"discount\",\"publisher\",\"pubdate\"]] \\\n",
    "                    .sort_values(by=\"discount\", ascending=False).reset_index(drop=True)\n",
    "    return result\n",
    "    "
   ]
  },
  {
   "cell_type": "code",
   "execution_count": 70,
   "id": "5bd59781",
   "metadata": {},
   "outputs": [],
   "source": [
    "\n",
    "def search_book(book_name):\n",
    "    search_books(book_name)\n",
    "    book_df = make_df()\n",
    "    return book_df"
   ]
  },
  {
   "cell_type": "code",
   "execution_count": null,
   "id": "2708cb4e",
   "metadata": {},
   "outputs": [],
   "source": [
    "\n",
    "\n",
    "def search_inf(book_name):\n",
    "    search_books(book_name)\n",
    "    book_df = make_df()\n",
    "    result = book_df.loc[book_df[\"publisher\"] == \"인피니티북스\", book_df.columns.drop([\"image\", \"description\" ])].reset_index(drop=True)\n",
    "    return result"
   ]
  },
  {
   "cell_type": "code",
   "execution_count": null,
   "id": "bb73adde",
   "metadata": {},
   "outputs": [],
   "source": [
    "search_inf(\"파이썬\")"
   ]
  },
  {
   "cell_type": "code",
   "execution_count": null,
   "id": "a1e79fdf",
   "metadata": {},
   "outputs": [],
   "source": [
    "search_over20000(\"파이썬\")"
   ]
  },
  {
   "cell_type": "code",
   "execution_count": null,
   "id": "ab3b666b",
   "metadata": {},
   "outputs": [],
   "source": [
    "search_book(\"파이썬\")"
   ]
  }
 ],
 "metadata": {
  "kernelspec": {
   "display_name": "base",
   "language": "python",
   "name": "python3"
  },
  "language_info": {
   "codemirror_mode": {
    "name": "ipython",
    "version": 3
   },
   "file_extension": ".py",
   "mimetype": "text/x-python",
   "name": "python",
   "nbconvert_exporter": "python",
   "pygments_lexer": "ipython3",
   "version": "3.12.7"
  }
 },
 "nbformat": 4,
 "nbformat_minor": 5
}
