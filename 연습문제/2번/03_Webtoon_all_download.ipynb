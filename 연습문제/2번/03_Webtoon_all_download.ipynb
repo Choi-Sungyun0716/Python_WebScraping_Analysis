{
 "cells": [
  {
   "cell_type": "code",
   "execution_count": 33,
   "id": "0bf978d7",
   "metadata": {},
   "outputs": [
    {
     "name": "stderr",
     "output_type": "stream",
     "text": [
      "<string>:34: SyntaxWarning: invalid escape sequence '\\{'\n",
      "<string>:34: SyntaxWarning: invalid escape sequence '\\{'\n",
      "<>:34: SyntaxWarning: invalid escape sequence '\\{'\n",
      "<>:34: SyntaxWarning: invalid escape sequence '\\{'\n",
      "<string>:34: SyntaxWarning: invalid escape sequence '\\{'\n",
      "<string>:34: SyntaxWarning: invalid escape sequence '\\{'\n",
      "<>:34: SyntaxWarning: invalid escape sequence '\\{'\n",
      "<>:34: SyntaxWarning: invalid escape sequence '\\{'\n",
      "C:\\Users\\user\\AppData\\Local\\Temp\\ipykernel_7596\\1593467409.py:34: SyntaxWarning: invalid escape sequence '\\{'\n",
      "  imgdir_name = f\"img\\{title}\\{no}\"\n",
      "C:\\Users\\user\\AppData\\Local\\Temp\\ipykernel_7596\\1593467409.py:34: SyntaxWarning: invalid escape sequence '\\{'\n",
      "  imgdir_name = f\"img\\{title}\\{no}\"\n"
     ]
    }
   ],
   "source": [
    "import requests\n",
    "from bs4 import BeautifulSoup\n",
    "import os\n",
    "\n",
    "def download_one_episode(title,no,url):\n",
    "\n",
    "    webtoon_url = url\n",
    "\n",
    "    req_header = {\n",
    "        \n",
    "        \"user-agent\" : \"Mozilla/5.0 (Windows NT 10.0; Win64; x64) AppleWebKit/537.36 (KHTML, like Gecko) Chrome/138.0.0.0 Safari/537.36\",\n",
    "        'referer' : webtoon_url\n",
    "\n",
    "    }\n",
    "\n",
    "    res = requests.get(webtoon_url)\n",
    "    print(res.status_code)\n",
    "\n",
    "    if res.ok:\n",
    "        soup = BeautifulSoup(res.text, 'html.parser')\n",
    "        print(len(soup.select(\"img[src *= 'IMAG01']\")))\n",
    "        #img src file명을 저장할 list 선언\n",
    "        img_url_list = list()\n",
    "        img_tags = soup.select(\"img[src *= 'IMAG01']\") #Resultset type [Tag, Tag, Tag]\n",
    "        for img_tag in img_tags: #Tag <img>\n",
    "            img_url = img_tag[\"src\"]\n",
    "            img_url_list.append(img_url)\n",
    "            #print(img_url)\n",
    "        #print(len(img_url_list), img_url_list[0:2])\n",
    "        \n",
    "        #img 디렉토리가 없으면 생성하기\n",
    "        #imgdir_name = os.path.join(\"img\",title,str(no))\n",
    "        \n",
    "        imgdir_name = f\"img\\{title}\\{no}\"\n",
    "\n",
    "        print(imgdir_name)\n",
    "\n",
    "        if not os.path.isdir(imgdir_name):\n",
    "            os.makedirs(imgdir_name)\n",
    "\n",
    "        for jpg_url in img_url_list:\n",
    "            res = requests.get(jpg_url, headers = req_header)\n",
    "            if res.ok:\n",
    "                img_data = res.content\n",
    "\n",
    "                dir_name = os.path.join(imgdir_name, os.path.basename(jpg_url))\n",
    "\n",
    "                #print(dir_name)\n",
    "                # binday data를 file에 write하기\n",
    "                with open(dir_name, 'wb') as file:\n",
    "                    print(f'Writing to {dir_name}({len(img_data):,}bytes)')\n",
    "                    file.write(img_data)\n",
    "                \n",
    "            else:\n",
    "                print(f\"Error Code = {res.status_code}\")\n"
   ]
  },
  {
   "cell_type": "code",
   "execution_count": 31,
   "id": "9d35244a",
   "metadata": {},
   "outputs": [],
   "source": [
    "import requests\n",
    "from bs4 import BeautifulSoup\n",
    "import os\n",
    "\n",
    "\n",
    "def download_all_episode(title, url):\n",
    "\n",
    "    webtoon_no_list = list()\n",
    "\n",
    "    headers = {\n",
    "    'user-agent':'Mozilla/5.0 (Windows NT 10.0; Win64; x64) AppleWebKit/537.36 (KHTML, like Gecko) Chrome/74.0.3729.169 Safari/537.36'\n",
    "    }\n",
    "\n",
    "   \n",
    "    title_no = url.split(\"=\")[1]\n",
    "    print(title_no)\n",
    "\n",
    "    json_url = f'https://comic.naver.com/api/article/list?titleId={title_no}&page=1'\n",
    "    print(json_url)\n",
    "    res = requests.get(json_url, headers=headers)\n",
    "    print(res.ok)\n",
    "    \n",
    "    if res.ok:\n",
    "        article_list = res.json()['articleList']\n",
    "        webtoon_no_list = [article['no'] for article in article_list]\n",
    "        print(webtoon_no_list)\n",
    "\n",
    "    for no in webtoon_no_list:\n",
    "        detail_url = f\"https://comic.naver.com/webtoon/detail?titleId={title_no}&no={no}\"\n",
    "        download_one_episode(title, no, detail_url)\n",
    "        \n",
    "        \n",
    "    "
   ]
  },
  {
   "cell_type": "code",
   "execution_count": 32,
   "id": "460dbf8d",
   "metadata": {},
   "outputs": [
    {
     "name": "stdout",
     "output_type": "stream",
     "text": [
      "641253\n",
      "https://comic.naver.com/api/article/list?titleId=641253&page=1\n",
      "True\n",
      "[558, 557, 556, 555, 554, 553, 552, 551, 550, 549, 548, 547, 546, 545, 544, 543, 542, 541, 540, 539]\n"
     ]
    },
    {
     "ename": "NameError",
     "evalue": "name 'download_one_episode' is not defined",
     "output_type": "error",
     "traceback": [
      "\u001b[1;31m---------------------------------------------------------------------------\u001b[0m",
      "\u001b[1;31mNameError\u001b[0m                                 Traceback (most recent call last)",
      "Cell \u001b[1;32mIn[32], line 1\u001b[0m\n\u001b[1;32m----> 1\u001b[0m download_all_episode(\u001b[38;5;124m\"\u001b[39m\u001b[38;5;124m외모지상주의\u001b[39m\u001b[38;5;124m\"\u001b[39m, \u001b[38;5;124m\"\u001b[39m\u001b[38;5;124mhttps://comic.naver.com/webtoon/list?titleId=641253\u001b[39m\u001b[38;5;124m\"\u001b[39m)\n",
      "Cell \u001b[1;32mIn[31], line 30\u001b[0m, in \u001b[0;36mdownload_all_episode\u001b[1;34m(title, url)\u001b[0m\n\u001b[0;32m     28\u001b[0m \u001b[38;5;28;01mfor\u001b[39;00m no \u001b[38;5;129;01min\u001b[39;00m webtoon_no_list:\n\u001b[0;32m     29\u001b[0m     detail_url \u001b[38;5;241m=\u001b[39m \u001b[38;5;124mf\u001b[39m\u001b[38;5;124m\"\u001b[39m\u001b[38;5;124mhttps://comic.naver.com/webtoon/detail?titleId=\u001b[39m\u001b[38;5;132;01m{\u001b[39;00mtitle_no\u001b[38;5;132;01m}\u001b[39;00m\u001b[38;5;124m&no=\u001b[39m\u001b[38;5;132;01m{\u001b[39;00mno\u001b[38;5;132;01m}\u001b[39;00m\u001b[38;5;124m\"\u001b[39m\n\u001b[1;32m---> 30\u001b[0m     download_one_episode(title, no, detail_url)\n",
      "\u001b[1;31mNameError\u001b[0m: name 'download_one_episode' is not defined"
     ]
    }
   ],
   "source": [
    "download_all_episode(\"외모지상주의\", \"https://comic.naver.com/webtoon/list?titleId=641253\")"
   ]
  }
 ],
 "metadata": {
  "kernelspec": {
   "display_name": "base",
   "language": "python",
   "name": "python3"
  },
  "language_info": {
   "codemirror_mode": {
    "name": "ipython",
    "version": 3
   },
   "file_extension": ".py",
   "mimetype": "text/x-python",
   "name": "python",
   "nbconvert_exporter": "python",
   "pygments_lexer": "ipython3",
   "version": "3.12.7"
  }
 },
 "nbformat": 4,
 "nbformat_minor": 5
}
