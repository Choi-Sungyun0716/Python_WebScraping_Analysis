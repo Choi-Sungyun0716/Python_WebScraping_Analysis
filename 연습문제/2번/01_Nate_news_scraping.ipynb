{
 "cells": [
  {
   "cell_type": "code",
   "execution_count": 32,
   "id": "a08e1f6d",
   "metadata": {},
   "outputs": [],
   "source": [
    "import requests\n",
    "from urllib.parse import urljoin\n",
    "from bs4 import BeautifulSoup\n",
    "from IPython.display import Image, display\n",
    "\n",
    "#section_dict = {100:'정치',101:'경제',102:'사회',103:'생활/문화',104:'세계',105:'IT/과학'}\n",
    "\n",
    "section_dict = {\"최신뉴스\" : 100 , \"정치\" : 200 , \"경제\" : 300, \"사회\":400, \"세계\" : 500, \"IT/과학\" : 600}\n",
    "\n",
    "\n",
    "\n",
    "\n",
    "def print_news():  #print_new(103,'생활/문화')\n",
    "    for section in  section_dict:\n",
    "        sid = section_dict[section]\n",
    "        url = f'https://news.nate.com/recent?mid=n0{sid}'\n",
    "        print(f'======> {url} {section} 뉴스 <======')\n",
    "\n",
    "        req_header = {\n",
    "        \"user-agent\" : \"Mozilla/5.0 (Windows NT 10.0; Win64; x64) AppleWebKit/537.36 (KHTML, like Gecko) Chrome/138.0.0.0 Safari/537.36\"\n",
    "        \n",
    "        }\n",
    "\n",
    "        res = requests.get(url, headers=req_header)\n",
    "        res.encoding = 'euc-kr'\n",
    "    \n",
    "\n",
    "        if(res.ok):\n",
    "            html = res.text \n",
    "            #print(html)\n",
    "            # BeautifulSoup 객체 생성  \n",
    "            soup = BeautifulSoup(html, \"html.parser\")\n",
    "            #print(soup)\n",
    "            # CSS 선택자\n",
    "            a_tags = soup.select(\"div.postSubjectContent div.mlt01\") \n",
    "\n",
    "            #print(a_tags)\n",
    "\n",
    "            for li_tag in a_tags:\n",
    "                if(li_tag.text):\n",
    "                    a_tag = li_tag.find('a')\n",
    "                    link = a_tag[\"href\"]\n",
    "                    join_link = urljoin(url, link)\n",
    "\n",
    "                    title_tag = li_tag.find('h2')\n",
    "                    title = title_tag.text\n",
    "\n",
    "                    image_tag = li_tag.find(\"img\")\n",
    "                    if(image_tag):\n",
    "                        image = image_tag[\"src\"]\n",
    "                        join_image = urljoin(url, image)\n",
    "                        display(Image(url=join_image))\n",
    "\n",
    "                    print(title)\n",
    "                    print(join_link)\n",
    "                    \n",
    "\n",
    "                    print()\n",
    "                \n",
    "    # 응답(response)이 Error 이면 status code 출력 \n",
    "        else:\n",
    "            print(f\"Error Code = {res.status_code}\")"
   ]
  },
  {
   "cell_type": "code",
   "execution_count": 33,
   "id": "aaa88f03",
   "metadata": {},
   "outputs": [
    {
     "name": "stdout",
     "output_type": "stream",
     "text": [
      "======> https://news.nate.com/recent?mid=n0100 최신뉴스 뉴스 <======\n"
     ]
    },
    {
     "data": {
      "text/html": [
       "<img src=\"https://thumbnews.nateimg.co.kr/news90///news.nateimg.co.kr/orgImg/kz/2025/07/23/news-p.v1.20250722.cf8653435f9d45908432e93a3f321fe3_P1.jpg\"/>"
      ],
      "text/plain": [
       "<IPython.core.display.Image object>"
      ]
     },
     "metadata": {},
     "output_type": "display_data"
    },
    {
     "name": "stdout",
     "output_type": "stream",
     "text": [
      "\"너 세계 1위 공격수 맞아?\" 팩트체크! 英 스카이→\"아스널 고민 해결해 줄 선수, 그럼 '세계 최고' 맞나? 그건 아니야\"\n",
      "https://news.nate.com/view/20250723n33857?mid=n0100\n",
      "\n"
     ]
    },
    {
     "data": {
      "text/html": [
       "<img src=\"https://thumbnews.nateimg.co.kr/news90///news.nateimg.co.kr/orgImg/cz/2025/07/23/cz_1753261624715_35759_0.jpg\"/>"
      ],
      "text/plain": [
       "<IPython.core.display.Image object>"
      ]
     },
     "metadata": {},
     "output_type": "display_data"
    },
    {
     "name": "stdout",
     "output_type": "stream",
     "text": [
      "양파 농가들 가락시장서 집회…\"美 관세 압박에 농산물 개방해선 안 돼\"\n",
      "https://news.nate.com/view/20250723n33759?mid=n0100\n",
      "\n"
     ]
    },
    {
     "data": {
      "text/html": [
       "<img src=\"https://thumbnews.nateimg.co.kr/news90///news.nateimg.co.kr/orgImg/cb/2025/07/23/202507231745324430_0.jpg\"/>"
      ],
      "text/plain": [
       "<IPython.core.display.Image object>"
      ]
     },
     "metadata": {},
     "output_type": "display_data"
    },
    {
     "name": "stdout",
     "output_type": "stream",
     "text": [
      "감사관 채용비리 재판, 이정선 광주교육감 방어 재판?\n",
      "https://news.nate.com/view/20250723n33988?mid=n0100\n",
      "\n"
     ]
    },
    {
     "data": {
      "text/html": [
       "<img src=\"https://thumbnews.nateimg.co.kr/news90///news.nateimg.co.kr/orgImg/ni/2025/07/23/2507231757130990.jpg\"/>"
      ],
      "text/plain": [
       "<IPython.core.display.Image object>"
      ]
     },
     "metadata": {},
     "output_type": "display_data"
    },
    {
     "name": "stdout",
     "output_type": "stream",
     "text": [
      "속초시립박물관, 여름철 야간개장·전통 공연 운영\n",
      "https://news.nate.com/view/20250723n33987?mid=n0100\n",
      "\n"
     ]
    },
    {
     "data": {
      "text/html": [
       "<img src=\"https://thumbnews.nateimg.co.kr/news90///news.nateimg.co.kr/orgImg/se/2025/07/23/2GVGNND9BU_1.jpg\"/>"
      ],
      "text/plain": [
       "<IPython.core.display.Image object>"
      ]
     },
     "metadata": {},
     "output_type": "display_data"
    },
    {
     "name": "stdout",
     "output_type": "stream",
     "text": [
      "'헤비메탈 제왕' 英 오지 오즈번 별세···향년 76세\n",
      "https://news.nate.com/view/20250723n33986?mid=n0100\n",
      "\n",
      "[부고] 최진혁씨(서울시의원) 조부상 외\n",
      "https://news.nate.com/view/20250723n33985?mid=n0100\n",
      "\n"
     ]
    },
    {
     "data": {
      "text/html": [
       "<img src=\"https://thumbnews.nateimg.co.kr/news90///news.nateimg.co.kr/orgImg/hr/2025/07/23/news-p.v1.20250722.924c3d825dd5407aa536a793b92d0a1c_P1.jpg\"/>"
      ],
      "text/plain": [
       "<IPython.core.display.Image object>"
      ]
     },
     "metadata": {},
     "output_type": "display_data"
    },
    {
     "name": "stdout",
     "output_type": "stream",
     "text": [
      "\"왜 나만 살이 안 빠질까\"…숨은 방해꾼 '이것' 때문?\n",
      "https://news.nate.com/view/20250723n29246?mid=n0100\n",
      "\n"
     ]
    },
    {
     "data": {
      "text/html": [
       "<img src=\"https://thumbnews.nateimg.co.kr/news90///news.nateimg.co.kr/orgImg/aj/2025/07/23/20250723175116518971.jpg\"/>"
      ],
      "text/plain": [
       "<IPython.core.display.Image object>"
      ]
     },
     "metadata": {},
     "output_type": "display_data"
    },
    {
     "name": "stdout",
     "output_type": "stream",
     "text": [
      "인도, 중국인 관광비자 발급 5년만에 재개…중국 \"공동 이익 부합\"\n",
      "https://news.nate.com/view/20250723n33983?mid=n0100\n",
      "\n"
     ]
    },
    {
     "data": {
      "text/html": [
       "<img src=\"https://thumbnews.nateimg.co.kr/news90///news.nateimg.co.kr/orgImg/cb/2025/07/23/202507231759495575_0.jpg\"/>"
      ],
      "text/plain": [
       "<IPython.core.display.Image object>"
      ]
     },
     "metadata": {},
     "output_type": "display_data"
    },
    {
     "name": "stdout",
     "output_type": "stream",
     "text": [
      "'탈세 혐의' 타이어뱅크 김정규 회장 징역 3년·벌금 141억 '법정구속'\n",
      "https://news.nate.com/view/20250723n33982?mid=n0100\n",
      "\n"
     ]
    },
    {
     "data": {
      "text/html": [
       "<img src=\"https://thumbnews.nateimg.co.kr/news90///news.nateimg.co.kr/orgImg/ch/2025/07/23/ch_1753261624691_673056_0.jpg\"/>"
      ],
      "text/plain": [
       "<IPython.core.display.Image object>"
      ]
     },
     "metadata": {},
     "output_type": "display_data"
    },
    {
     "name": "stdout",
     "output_type": "stream",
     "text": [
      "이 대통령, 카자흐·스웨덴 정상과 취임 후 첫 통화\n",
      "https://news.nate.com/view/20250723n33671?mid=n0100\n",
      "\n"
     ]
    },
    {
     "data": {
      "text/html": [
       "<img src=\"https://thumbnews.nateimg.co.kr/news90///news.nateimg.co.kr/orgImg/aj/2025/07/23/20250723175405149527.gif\"/>"
      ],
      "text/plain": [
       "<IPython.core.display.Image object>"
      ]
     },
     "metadata": {},
     "output_type": "display_data"
    },
    {
     "name": "stdout",
     "output_type": "stream",
     "text": [
      "백경현 구리시장, 피해 복구 현장 방문해 관계 직원 격려\n",
      "https://news.nate.com/view/20250723n33980?mid=n0100\n",
      "\n"
     ]
    },
    {
     "data": {
      "text/html": [
       "<img src=\"https://thumbnews.nateimg.co.kr/news90///news.nateimg.co.kr/orgImg/mk/2025/07/23/20250724_01110105000003_L00.jpg\"/>"
      ],
      "text/plain": [
       "<IPython.core.display.Image object>"
      ]
     },
     "metadata": {},
     "output_type": "display_data"
    },
    {
     "name": "stdout",
     "output_type": "stream",
     "text": [
      "[단독] KDI \"韓 슈퍼스타 기업 씨 말라…산업 역동성 약화\"\n",
      "https://news.nate.com/view/20250723n33214?mid=n0100\n",
      "\n"
     ]
    },
    {
     "data": {
      "text/html": [
       "<img src=\"https://thumbnews.nateimg.co.kr/news90///news.nateimg.co.kr/orgImg/ni/2025/07/23/2507231754217560_w.jpg\"/>"
      ],
      "text/plain": [
       "<IPython.core.display.Image object>"
      ]
     },
     "metadata": {},
     "output_type": "display_data"
    },
    {
     "name": "stdout",
     "output_type": "stream",
     "text": [
      "안산시 '괴물 호우' 피해 복구 총력…\"흙탕물 씻고 일상 되찾는다\"\n",
      "https://news.nate.com/view/20250723n33978?mid=n0100\n",
      "\n"
     ]
    },
    {
     "data": {
      "text/html": [
       "<img src=\"https://thumbnews.nateimg.co.kr/news90///news.nateimg.co.kr/orgImg/iz/2025/07/23/853bfa65-140a-4ee2-ba91-7f02e29a26e8.jpg\"/>"
      ],
      "text/plain": [
       "<IPython.core.display.Image object>"
      ]
     },
     "metadata": {},
     "output_type": "display_data"
    },
    {
     "name": "stdout",
     "output_type": "stream",
     "text": [
      "브라운아이드소울, 6년 만에 컴백…새 앨범은 9월 [투데이픽]\n",
      "https://news.nate.com/view/20250723n33977?mid=n0100\n",
      "\n"
     ]
    },
    {
     "data": {
      "text/html": [
       "<img src=\"https://thumbnews.nateimg.co.kr/news90///news.nateimg.co.kr/orgImg/se/2025/07/23/2GVGNO28JH_1.JPG\"/>"
      ],
      "text/plain": [
       "<IPython.core.display.Image object>"
      ]
     },
     "metadata": {},
     "output_type": "display_data"
    },
    {
     "name": "stdout",
     "output_type": "stream",
     "text": [
      "KT·두산·카카오·호반 등도 성금 \"수해복구 한마음\"\n",
      "https://news.nate.com/view/20250723n33976?mid=n0100\n",
      "\n"
     ]
    },
    {
     "data": {
      "text/html": [
       "<img src=\"https://thumbnews.nateimg.co.kr/news90///news.nateimg.co.kr/orgImg/mk/2025/07/23/20250724_01110105000005_L00.jpg\"/>"
      ],
      "text/plain": [
       "<IPython.core.display.Image object>"
      ]
     },
     "metadata": {},
     "output_type": "display_data"
    },
    {
     "name": "stdout",
     "output_type": "stream",
     "text": [
      "소비쿠폰 풀리자…편의점 한우·라면 불티\n",
      "https://news.nate.com/view/20250723n33228?mid=n0100\n",
      "\n"
     ]
    },
    {
     "data": {
      "text/html": [
       "<img src=\"https://thumbnews.nateimg.co.kr/news90///news.nateimg.co.kr/orgImg/tn/2025/07/23/2025072318060679212_1.jpg\"/>"
      ],
      "text/plain": [
       "<IPython.core.display.Image object>"
      ]
     },
     "metadata": {},
     "output_type": "display_data"
    },
    {
     "name": "stdout",
     "output_type": "stream",
     "text": [
      "윤산하-츄 '비주얼 커플'[★포토]\n",
      "https://news.nate.com/view/20250723n33974?mid=n0100\n",
      "\n"
     ]
    },
    {
     "data": {
      "text/html": [
       "<img src=\"https://thumbnews.nateimg.co.kr/news90///news.nateimg.co.kr/orgImg/xs/2025/07/23/1753261544264030.jpg\"/>"
      ],
      "text/plain": [
       "<IPython.core.display.Image object>"
      ]
     },
     "metadata": {},
     "output_type": "display_data"
    },
    {
     "name": "stdout",
     "output_type": "stream",
     "text": [
      "퍼플키스 '음색 여신들'[엑's HD포토]\n",
      "https://news.nate.com/view/20250723n33973?mid=n0100\n",
      "\n"
     ]
    },
    {
     "data": {
      "text/html": [
       "<img src=\"https://thumbnews.nateimg.co.kr/news90///news.nateimg.co.kr/orgImg/cb/2025/07/23/202507231802425815_0.jpg\"/>"
      ],
      "text/plain": [
       "<IPython.core.display.Image object>"
      ]
     },
     "metadata": {},
     "output_type": "display_data"
    },
    {
     "name": "stdout",
     "output_type": "stream",
     "text": [
      "검찰, '36주 태아 낙태' 의사·산모 등 살인 혐의 재판행\n",
      "https://news.nate.com/view/20250723n33972?mid=n0100\n",
      "\n"
     ]
    },
    {
     "data": {
      "text/html": [
       "<img src=\"https://thumbnews.nateimg.co.kr/news90///news.nateimg.co.kr/orgImg/hk/2025/07/23/AA.41201641.1.jpg\"/>"
      ],
      "text/plain": [
       "<IPython.core.display.Image object>"
      ]
     },
     "metadata": {},
     "output_type": "display_data"
    },
    {
     "name": "stdout",
     "output_type": "stream",
     "text": [
      "자발적 R&D 밀어주자…초격차 기술 쏟아졌다\n",
      "https://news.nate.com/view/20250723n33971?mid=n0100\n",
      "\n",
      "======> https://news.nate.com/recent?mid=n0200 정치 뉴스 <======\n"
     ]
    },
    {
     "data": {
      "text/html": [
       "<img src=\"https://thumbnews.nateimg.co.kr/news90///news.nateimg.co.kr/orgImg/ny/2025/07/23/AKR20250723180212904_01_i.jpg\"/>"
      ],
      "text/plain": [
       "<IPython.core.display.Image object>"
      ]
     },
     "metadata": {},
     "output_type": "display_data"
    },
    {
     "name": "stdout",
     "output_type": "stream",
     "text": [
      "\"당신이 뭔데 행사 강행?\"…목포시의원, 시장 권한대행에 막말 논란\n",
      "https://news.nate.com/view/20250723n33856?mid=n0200\n",
      "\n"
     ]
    },
    {
     "data": {
      "text/html": [
       "<img src=\"https://thumbnews.nateimg.co.kr/news90///news.nateimg.co.kr/orgImg/ni/2025/07/23/2507231751553190.jpg\"/>"
      ],
      "text/plain": [
       "<IPython.core.display.Image object>"
      ]
     },
     "metadata": {},
     "output_type": "display_data"
    },
    {
     "name": "stdout",
     "output_type": "stream",
     "text": [
      "세종시교육청 '교감·1급 정교사' 연수 운영…174명 대상\n",
      "https://news.nate.com/view/20250723n33852?mid=n0200\n",
      "\n"
     ]
    },
    {
     "data": {
      "text/html": [
       "<img src=\"https://thumbnews.nateimg.co.kr/news90///news.nateimg.co.kr/orgImg/ni/2025/07/23/2507231800218060_w.jpg\"/>"
      ],
      "text/plain": [
       "<IPython.core.display.Image object>"
      ]
     },
     "metadata": {},
     "output_type": "display_data"
    },
    {
     "name": "stdout",
     "output_type": "stream",
     "text": [
      "李대통령 \"일부 지자체, 소비쿠폰 색상 차등…인권 감수성 부족\" 질타\n",
      "https://news.nate.com/view/20250723n24353?mid=n0200\n",
      "\n"
     ]
    },
    {
     "data": {
      "text/html": [
       "<img src=\"https://thumbnews.nateimg.co.kr/news90///news.nateimg.co.kr/orgImg/ss/2025/07/23/202599641753261102.jpg\"/>"
      ],
      "text/plain": [
       "<IPython.core.display.Image object>"
      ]
     },
     "metadata": {},
     "output_type": "display_data"
    },
    {
     "name": "stdout",
     "output_type": "stream",
     "text": [
      "李 대통령, 스웨덴 총리와 첫 통화…안보·공급망 협력 증진\n",
      "https://news.nate.com/view/20250723n33839?mid=n0200\n",
      "\n"
     ]
    },
    {
     "data": {
      "text/html": [
       "<img src=\"https://thumbnews.nateimg.co.kr/news90///news.nateimg.co.kr/orgImg/cb/2025/07/23/202507231752196741_0.jpg\"/>"
      ],
      "text/plain": [
       "<IPython.core.display.Image object>"
      ]
     },
     "metadata": {},
     "output_type": "display_data"
    },
    {
     "name": "stdout",
     "output_type": "stream",
     "text": [
      "강선우 결국 자진사퇴…'갑질'에 무너진 현역의원 '불패'[박지환의 뉴스톡]\n",
      "https://news.nate.com/view/20250723n33819?mid=n0200\n",
      "\n"
     ]
    },
    {
     "data": {
      "text/html": [
       "<img src=\"https://thumbnews.nateimg.co.kr/news90///news.nateimg.co.kr/orgImg/no/2025/07/23/SSC_20250723173613_V.jpg\"/>"
      ],
      "text/plain": [
       "<IPython.core.display.Image object>"
      ]
     },
     "metadata": {},
     "output_type": "display_data"
    },
    {
     "name": "stdout",
     "output_type": "stream",
     "text": [
      "尹 거부권 '농업4법' 일부 본회의 통과…지역화폐법·초중등교육법 8월로\n",
      "https://news.nate.com/view/20250723n32741?mid=n0200\n",
      "\n"
     ]
    },
    {
     "data": {
      "text/html": [
       "<img src=\"https://thumbnews.nateimg.co.kr/news90///news.nateimg.co.kr/orgImg/ni/2025/07/23/2507231755274190.jpg\"/>"
      ],
      "text/plain": [
       "<IPython.core.display.Image object>"
      ]
     },
     "metadata": {},
     "output_type": "display_data"
    },
    {
     "name": "stdout",
     "output_type": "stream",
     "text": [
      "고양시, '간부공무원 대상 AI 산업 특별강연' 개최\n",
      "https://news.nate.com/view/20250723n33779?mid=n0200\n",
      "\n"
     ]
    },
    {
     "data": {
      "text/html": [
       "<img src=\"https://thumbnews.nateimg.co.kr/news90///news.nateimg.co.kr/orgImg/jt/2025/07/23/20250723175634436001.jpg\"/>"
      ],
      "text/plain": [
       "<IPython.core.display.Image object>"
      ]
     },
     "metadata": {},
     "output_type": "display_data"
    },
    {
     "name": "stdout",
     "output_type": "stream",
     "text": [
      "결국 자진 사퇴한 강선우…대통령실 \"인사검증 절차 노력\"\n",
      "https://news.nate.com/view/20250723n33763?mid=n0200\n",
      "\n"
     ]
    },
    {
     "data": {
      "text/html": [
       "<img src=\"https://thumbnews.nateimg.co.kr/news90///news.nateimg.co.kr/orgImg/na/2025/07/23/7409745_high.jpg\"/>"
      ],
      "text/plain": [
       "<IPython.core.display.Image object>"
      ]
     },
     "metadata": {},
     "output_type": "display_data"
    },
    {
     "name": "stdout",
     "output_type": "stream",
     "text": [
      "국힘, 두 차례 의총에도 혁신안 결론 못 내…차기 지도부에 '공'\n",
      "https://news.nate.com/view/20250723n33762?mid=n0200\n",
      "\n"
     ]
    },
    {
     "data": {
      "text/html": [
       "<img src=\"https://thumbnews.nateimg.co.kr/news90///news.nateimg.co.kr/orgImg/ni/2025/07/23/2507231745229490.jpg\"/>"
      ],
      "text/plain": [
       "<IPython.core.display.Image object>"
      ]
     },
     "metadata": {},
     "output_type": "display_data"
    },
    {
     "name": "stdout",
     "output_type": "stream",
     "text": [
      "고양시-학운협, 미래 교육을 함께 설계하다\n",
      "https://news.nate.com/view/20250723n33743?mid=n0200\n",
      "\n"
     ]
    },
    {
     "data": {
      "text/html": [
       "<img src=\"https://thumbnews.nateimg.co.kr/news90///news.nateimg.co.kr/orgImg/hi/2025/07/23/ea722552-ffe2-4a1e-a009-f835e01e5858.jpg\"/>"
      ],
      "text/plain": [
       "<IPython.core.display.Image object>"
      ]
     },
     "metadata": {},
     "output_type": "display_data"
    },
    {
     "name": "stdout",
     "output_type": "stream",
     "text": [
      "장동혁에 주진우까지…국힘 초·재선 의원들 당권 출사표\n",
      "https://news.nate.com/view/20250723n33728?mid=n0200\n",
      "\n"
     ]
    },
    {
     "data": {
      "text/html": [
       "<img src=\"https://thumbnews.nateimg.co.kr/news90///news.nateimg.co.kr/orgImg/mk/2025/07/23/20250724_01110125000005_M00.jpg\"/>"
      ],
      "text/plain": [
       "<IPython.core.display.Image object>"
      ]
     },
     "metadata": {},
     "output_type": "display_data"
    },
    {
     "name": "stdout",
     "output_type": "stream",
     "text": [
      "김상환 헌재소장 후보자 국회서 임명동의안 통과\n",
      "https://news.nate.com/view/20250723n33722?mid=n0200\n",
      "\n"
     ]
    },
    {
     "data": {
      "text/html": [
       "<img src=\"https://thumbnews.nateimg.co.kr/news90///news.nateimg.co.kr/orgImg/na/2025/07/23/7408205_high.jpg\"/>"
      ],
      "text/plain": [
       "<IPython.core.display.Image object>"
      ]
     },
     "metadata": {},
     "output_type": "display_data"
    },
    {
     "name": "stdout",
     "output_type": "stream",
     "text": [
      "조경태, 혁신 후보 단일화  제안…100% 국민 여론조사 방식\n",
      "https://news.nate.com/view/20250723n33717?mid=n0200\n",
      "\n"
     ]
    },
    {
     "data": {
      "text/html": [
       "<img src=\"https://thumbnews.nateimg.co.kr/news90///news.nateimg.co.kr/orgImg/ni/2025/07/23/2507231749347670.jpg\"/>"
      ],
      "text/plain": [
       "<IPython.core.display.Image object>"
      ]
     },
     "metadata": {},
     "output_type": "display_data"
    },
    {
     "name": "stdout",
     "output_type": "stream",
     "text": [
      "김진태 강원도지사, 강원 핵심정책 국정과제 반영 건의\n",
      "https://news.nate.com/view/20250723n33705?mid=n0200\n",
      "\n"
     ]
    },
    {
     "data": {
      "text/html": [
       "<img src=\"https://thumbnews.nateimg.co.kr/news90///news.nateimg.co.kr/orgImg/jo/2025/07/23/ovp_e7f5c6f3-fc0d-4b47-aeef-332bb3e6b7c1.jpg\"/>"
      ],
      "text/plain": [
       "<IPython.core.display.Image object>"
      ]
     },
     "metadata": {},
     "output_type": "display_data"
    },
    {
     "name": "stdout",
     "output_type": "stream",
     "text": [
      "'갑질 논란' 강선우 결국 사퇴 \"국민께 사죄, 李대통령께 죄송\"\n",
      "https://news.nate.com/view/20250723n26683?mid=n0200\n",
      "\n"
     ]
    },
    {
     "data": {
      "text/html": [
       "<img src=\"https://thumbnews.nateimg.co.kr/news90///news.nateimg.co.kr/orgImg/ch/2025/07/23/ch_1753261205080_580317_0.jpg\"/>"
      ],
      "text/plain": [
       "<IPython.core.display.Image object>"
      ]
     },
     "metadata": {},
     "output_type": "display_data"
    },
    {
     "name": "stdout",
     "output_type": "stream",
     "text": [
      "이 대통령, 카자흐·스웨덴 정상과 취임 후 첫 통화\n",
      "https://news.nate.com/view/20250723n33671?mid=n0200\n",
      "\n"
     ]
    },
    {
     "data": {
      "text/html": [
       "<img src=\"https://thumbnews.nateimg.co.kr/news90///news.nateimg.co.kr/orgImg/na/2025/07/23/7409427_high.jpg\"/>"
      ],
      "text/plain": [
       "<IPython.core.display.Image object>"
      ]
     },
     "metadata": {},
     "output_type": "display_data"
    },
    {
     "name": "stdout",
     "output_type": "stream",
     "text": [
      "윤호중 \"모바일 신분증 민간 개방…디지털 혁신 이룰 것(종합)\n",
      "https://news.nate.com/view/20250723n33584?mid=n0200\n",
      "\n"
     ]
    },
    {
     "data": {
      "text/html": [
       "<img src=\"https://thumbnews.nateimg.co.kr/news90///news.nateimg.co.kr/orgImg/hk/2025/07/23/ZN.41201162.1.jpg\"/>"
      ],
      "text/plain": [
       "<IPython.core.display.Image object>"
      ]
     },
     "metadata": {},
     "output_type": "display_data"
    },
    {
     "name": "stdout",
     "output_type": "stream",
     "text": [
      "윤희숙 \"당헌·당규에 사죄 넣자\"…의원들 \"숙의 필요\"\n",
      "https://news.nate.com/view/20250723n33663?mid=n0200\n",
      "\n"
     ]
    },
    {
     "data": {
      "text/html": [
       "<img src=\"https://thumbnews.nateimg.co.kr/news90///news.nateimg.co.kr/orgImg/ck/2025/07/23/kuk20250723000388.800x.0.png\"/>"
      ],
      "text/plain": [
       "<IPython.core.display.Image object>"
      ]
     },
     "metadata": {},
     "output_type": "display_data"
    },
    {
     "name": "stdout",
     "output_type": "stream",
     "text": [
      "수해 상황에 술 찾고 춤·노래…공직자·정치인 잇단 부적절 언행 '도마'\n",
      "https://news.nate.com/view/20250723n33650?mid=n0200\n",
      "\n"
     ]
    },
    {
     "data": {
      "text/html": [
       "<img src=\"https://thumbnews.nateimg.co.kr/news90///news.nateimg.co.kr/orgImg/at/2025/07/23/2025072301002300900137541.jpg\"/>"
      ],
      "text/plain": [
       "<IPython.core.display.Image object>"
      ]
     },
     "metadata": {},
     "output_type": "display_data"
    },
    {
     "name": "stdout",
     "output_type": "stream",
     "text": [
      "APEC D-100일…\"K-경호,절대안전 책임진다\"\n",
      "https://news.nate.com/view/20250723n33644?mid=n0200\n",
      "\n",
      "======> https://news.nate.com/recent?mid=n0300 경제 뉴스 <======\n"
     ]
    },
    {
     "data": {
      "text/html": [
       "<img src=\"https://thumbnews.nateimg.co.kr/news90///news.nateimg.co.kr/orgImg/se/2025/07/23/2GVGO6K9KI_1.jpg\"/>"
      ],
      "text/plain": [
       "<IPython.core.display.Image object>"
      ]
     },
     "metadata": {},
     "output_type": "display_data"
    },
    {
     "name": "stdout",
     "output_type": "stream",
     "text": [
      "키움증권 퇴직연금 사업자 인가 신청, 내년으로 연기\n",
      "https://news.nate.com/view/20250723n33953?mid=n0300\n",
      "\n"
     ]
    },
    {
     "data": {
      "text/html": [
       "<img src=\"https://thumbnews.nateimg.co.kr/news90///news.nateimg.co.kr/orgImg/cz/2025/07/23/cz_1753261569666_588070_0.jpg\"/>"
      ],
      "text/plain": [
       "<IPython.core.display.Image object>"
      ]
     },
     "metadata": {},
     "output_type": "display_data"
    },
    {
     "name": "stdout",
     "output_type": "stream",
     "text": [
      "인천 만수동 햇빛마을벽산아파트 84㎡ 3억1500만원에 거래\n",
      "https://news.nate.com/view/20250723n33952?mid=n0300\n",
      "\n"
     ]
    },
    {
     "data": {
      "text/html": [
       "<img src=\"https://thumbnews.nateimg.co.kr/news90///news.nateimg.co.kr/orgImg/kh/2025/07/23/news-p.v1.20250723.ab93e4e5e9214cddaa14ebd5dd5f46e7_P1.jpg\"/>"
      ],
      "text/plain": [
       "<IPython.core.display.Image object>"
      ]
     },
     "metadata": {},
     "output_type": "display_data"
    },
    {
     "name": "stdout",
     "output_type": "stream",
     "text": [
      "사회적 책임 제대로 하자···쿠팡, '사회공헌위원회' 공식 출범\n",
      "https://news.nate.com/view/20250723n33946?mid=n0300\n",
      "\n"
     ]
    },
    {
     "data": {
      "text/html": [
       "<img src=\"https://thumbnews.nateimg.co.kr/news90///news.nateimg.co.kr/orgImg/ni/2025/07/23/1904241446222280.jpg\"/>"
      ],
      "text/plain": [
       "<IPython.core.display.Image object>"
      ]
     },
     "metadata": {},
     "output_type": "display_data"
    },
    {
     "name": "stdout",
     "output_type": "stream",
     "text": [
      "'정신질환자 공공후견지원' 내년 전국 확대…복지부 \"주체적 삶 지원\"\n",
      "https://news.nate.com/view/20250723n33945?mid=n0300\n",
      "\n"
     ]
    },
    {
     "data": {
      "text/html": [
       "<img src=\"https://thumbnews.nateimg.co.kr/news90///news.nateimg.co.kr/orgImg/hk/2025/07/23/AA.41201600.1.jpg\"/>"
      ],
      "text/plain": [
       "<IPython.core.display.Image object>"
      ]
     },
     "metadata": {},
     "output_type": "display_data"
    },
    {
     "name": "stdout",
     "output_type": "stream",
     "text": [
      "2600억 으뜸가전 환급사업…中 LCD는 되는데, 韓 OLED TV 안돼\n",
      "https://news.nate.com/view/20250723n33942?mid=n0300\n",
      "\n"
     ]
    },
    {
     "data": {
      "text/html": [
       "<img src=\"https://thumbnews.nateimg.co.kr/news90///news.nateimg.co.kr/orgImg/ni/2025/07/23/250723180159245_w.jpg\"/>"
      ],
      "text/plain": [
       "<IPython.core.display.Image object>"
      ]
     },
     "metadata": {},
     "output_type": "display_data"
    },
    {
     "name": "stdout",
     "output_type": "stream",
     "text": [
      "구윤철, '2+2 통상협의' 앞서 美 싱크탱크 만난다\n",
      "https://news.nate.com/view/20250723n33935?mid=n0300\n",
      "\n"
     ]
    },
    {
     "data": {
      "text/html": [
       "<img src=\"https://thumbnews.nateimg.co.kr/news90///news.nateimg.co.kr/orgImg/aj/2025/07/23/20250723143738792689.jpg\"/>"
      ],
      "text/plain": [
       "<IPython.core.display.Image object>"
      ]
     },
     "metadata": {},
     "output_type": "display_data"
    },
    {
     "name": "stdout",
     "output_type": "stream",
     "text": [
      "금융당국 '여름 휴가' 모드 돌입…두나무 제재·4인뱅 결정도 9월 이후로\n",
      "https://news.nate.com/view/20250723n33931?mid=n0300\n",
      "\n"
     ]
    },
    {
     "data": {
      "text/html": [
       "<img src=\"https://thumbnews.nateimg.co.kr/news90///news.nateimg.co.kr/orgImg/en/2025/07/23/1671642_687479_419.jpg\"/>"
      ],
      "text/plain": [
       "<IPython.core.display.Image object>"
      ]
     },
     "metadata": {},
     "output_type": "display_data"
    },
    {
     "name": "stdout",
     "output_type": "stream",
     "text": [
      "신세계면세점, 中 고소득층 단체 유치 확대…여름 성수기 MICE 수요 적극 공략\n",
      "https://news.nate.com/view/20250723n33929?mid=n0300\n",
      "\n"
     ]
    },
    {
     "data": {
      "text/html": [
       "<img src=\"https://thumbnews.nateimg.co.kr/news90///news.nateimg.co.kr/orgImg/dn/2025/07/23/news_1753258815_1526884_m_1.jpeg\"/>"
      ],
      "text/plain": [
       "<IPython.core.display.Image object>"
      ]
     },
     "metadata": {},
     "output_type": "display_data"
    },
    {
     "name": "stdout",
     "output_type": "stream",
     "text": [
      "\"불공정거래로 번 돈 전부 토해낸다\"…금융위, 자시법 시행령·고시 입법예고\n",
      "https://news.nate.com/view/20250723n33928?mid=n0300\n",
      "\n",
      "나무기술, 61억원 규모 단기차입금 증가 결정\n",
      "https://news.nate.com/view/20250723n33926?mid=n0300\n",
      "\n"
     ]
    },
    {
     "data": {
      "text/html": [
       "<img src=\"https://thumbnews.nateimg.co.kr/news90///news.nateimg.co.kr/orgImg/kh/2025/07/23/news-p.v1.20250723.f3d695b6015d458ab1f50cfe638de810_P1.jpg\"/>"
      ],
      "text/plain": [
       "<IPython.core.display.Image object>"
      ]
     },
     "metadata": {},
     "output_type": "display_data"
    },
    {
     "name": "stdout",
     "output_type": "stream",
     "text": [
      "[단독]\"임대료 40%깎아달라\" 인천공항·면세점 조정 결국 결렬되나\n",
      "https://news.nate.com/view/20250723n12556?mid=n0300\n",
      "\n"
     ]
    },
    {
     "data": {
      "text/html": [
       "<img src=\"https://thumbnews.nateimg.co.kr/news90///news.nateimg.co.kr/orgImg/jo/2025/07/23/608c51b4-a957-4012-8dbb-63262c7bab77.jpg\"/>"
      ],
      "text/plain": [
       "<IPython.core.display.Image object>"
      ]
     },
     "metadata": {},
     "output_type": "display_data"
    },
    {
     "name": "stdout",
     "output_type": "stream",
     "text": [
      "소비쿠폰으로 불티나게 샀다…편의점서 매출 230% 뛴 이것\n",
      "https://news.nate.com/view/20250723n33368?mid=n0300\n",
      "\n",
      "[표]7월 23일 시간외 상승 종목 및 최근 동향\n",
      "https://news.nate.com/view/20250723n33913?mid=n0300\n",
      "\n"
     ]
    },
    {
     "data": {
      "text/html": [
       "<img src=\"https://thumbnews.nateimg.co.kr/news90///news.nateimg.co.kr/orgImg/mt/2025/07/23/2025072314375354529_1.jpg\"/>"
      ],
      "text/plain": [
       "<IPython.core.display.Image object>"
      ]
     },
     "metadata": {},
     "output_type": "display_data"
    },
    {
     "name": "stdout",
     "output_type": "stream",
     "text": [
      "알파벳, 광고-클라우드 실적 호조 기대…핵심 우려는 여전[오미주]\n",
      "https://news.nate.com/view/20250723n33907?mid=n0300\n",
      "\n"
     ]
    },
    {
     "data": {
      "text/html": [
       "<img src=\"https://thumbnews.nateimg.co.kr/news90///news.nateimg.co.kr/orgImg/mt/2025/07/23/mt_1753261504772_596251_0.jpg\"/>"
      ],
      "text/plain": [
       "<IPython.core.display.Image object>"
      ]
     },
     "metadata": {},
     "output_type": "display_data"
    },
    {
     "name": "stdout",
     "output_type": "stream",
     "text": [
      "\"월급도 주고 150% 더\"…SK하이닉스 직원들 '상반기 PI' 대박났네\n",
      "https://news.nate.com/view/20250723n33619?mid=n0300\n",
      "\n"
     ]
    },
    {
     "data": {
      "text/html": [
       "<img src=\"https://thumbnews.nateimg.co.kr/news90///news.nateimg.co.kr/orgImg/ni/2025/07/23/200318150106411.jpg\"/>"
      ],
      "text/plain": [
       "<IPython.core.display.Image object>"
      ]
     },
     "metadata": {},
     "output_type": "display_data"
    },
    {
     "name": "stdout",
     "output_type": "stream",
     "text": [
      "李대통령 친서 들고 미국 가는 박용만 특사단…'진짜 의중' 전할 특명 받아\n",
      "https://news.nate.com/view/20250723n33902?mid=n0300\n",
      "\n",
      "[코스닥 공시]\n",
      "https://news.nate.com/view/20250723n33851?mid=n0300\n",
      "\n",
      "[유가증권시장 공시] 진양화학 / 금호건설 / 삼보판지 등\n",
      "https://news.nate.com/view/20250723n33850?mid=n0300\n",
      "\n"
     ]
    },
    {
     "data": {
      "text/html": [
       "<img src=\"https://thumbnews.nateimg.co.kr/news90///news.nateimg.co.kr/orgImg/mk/2025/07/23/20250724_01110119000007_L00.jpg\"/>"
      ],
      "text/plain": [
       "<IPython.core.display.Image object>"
      ]
     },
     "metadata": {},
     "output_type": "display_data"
    },
    {
     "name": "stdout",
     "output_type": "stream",
     "text": [
      "日 관세협상 타결에…현대차 주가 훨훨\n",
      "https://news.nate.com/view/20250723n33849?mid=n0300\n",
      "\n"
     ]
    },
    {
     "data": {
      "text/html": [
       "<img src=\"https://thumbnews.nateimg.co.kr/news90///news.nateimg.co.kr/orgImg/fn/2025/07/23/202507231804409435_l.jpg\"/>"
      ],
      "text/plain": [
       "<IPython.core.display.Image object>"
      ]
     },
     "metadata": {},
     "output_type": "display_data"
    },
    {
     "name": "stdout",
     "output_type": "stream",
     "text": [
      "일본 이어 한국도 '쌀값 대란' 위기…올들어 20㎏ 소매가격 6만원 첫 돌파\n",
      "https://news.nate.com/view/20250723n33896?mid=n0300\n",
      "\n",
      "======> https://news.nate.com/recent?mid=n0400 사회 뉴스 <======\n"
     ]
    },
    {
     "data": {
      "text/html": [
       "<img src=\"https://thumbnews.nateimg.co.kr/news90///news.nateimg.co.kr/orgImg/hk/2025/07/23/AA.41201597.1.jpg\"/>"
      ],
      "text/plain": [
       "<IPython.core.display.Image object>"
      ]
     },
     "metadata": {},
     "output_type": "display_data"
    },
    {
     "name": "stdout",
     "output_type": "stream",
     "text": [
      "[이 아침의 영화감독] 파노라마식 연출로 세계 영화사 큰 획\n",
      "https://news.nate.com/view/20250723n33866?mid=n0400\n",
      "\n",
      "[인사] 한국과학기술연구원 외\n",
      "https://news.nate.com/view/20250723n33861?mid=n0400\n",
      "\n"
     ]
    },
    {
     "data": {
      "text/html": [
       "<img src=\"https://thumbnews.nateimg.co.kr/news90///news.nateimg.co.kr/orgImg/yn/2025/07/23/202507231759142816_t.jpg\"/>"
      ],
      "text/plain": [
       "<IPython.core.display.Image object>"
      ]
     },
     "metadata": {},
     "output_type": "display_data"
    },
    {
     "name": "stdout",
     "output_type": "stream",
     "text": [
      "'공천개입 의혹' 윤상현 의원, 27일 김건희 특검 출석\n",
      "https://news.nate.com/view/20250723n33859?mid=n0400\n",
      "\n"
     ]
    },
    {
     "data": {
      "text/html": [
       "<img src=\"https://thumbnews.nateimg.co.kr/news90///news.nateimg.co.kr/orgImg/na/2025/07/23/7404852_high.jpg\"/>"
      ],
      "text/plain": [
       "<IPython.core.display.Image object>"
      ]
     },
     "metadata": {},
     "output_type": "display_data"
    },
    {
     "name": "stdout",
     "output_type": "stream",
     "text": [
      "가평 집중호우 피해액 346억…사망 4명·실종 3명\n",
      "https://news.nate.com/view/20250723n33855?mid=n0400\n",
      "\n"
     ]
    },
    {
     "data": {
      "text/html": [
       "<img src=\"https://thumbnews.nateimg.co.kr/news90///news.nateimg.co.kr/orgImg/do/2025/07/23/132051392.1.jpg\"/>"
      ],
      "text/plain": [
       "<IPython.core.display.Image object>"
      ]
     },
     "metadata": {},
     "output_type": "display_data"
    },
    {
     "name": "stdout",
     "output_type": "stream",
     "text": [
      "'총기살해' 유족 \"며느리-손주도 죽이려했다\"…父 \"아들만 살해하려했다\"\n",
      "https://news.nate.com/view/20250723n31892?mid=n0400\n",
      "\n"
     ]
    },
    {
     "data": {
      "text/html": [
       "<img src=\"https://thumbnews.nateimg.co.kr/news90///news.nateimg.co.kr/orgImg/ss/2025/07/23/202552701753261055.jpg\"/>"
      ],
      "text/plain": [
       "<IPython.core.display.Image object>"
      ]
     },
     "metadata": {},
     "output_type": "display_data"
    },
    {
     "name": "stdout",
     "output_type": "stream",
     "text": [
      "수원시의회, 운영위원장 등 후반기 제2기 원구성 '마무리'\n",
      "https://news.nate.com/view/20250723n33835?mid=n0400\n",
      "\n"
     ]
    },
    {
     "data": {
      "text/html": [
       "<img src=\"https://thumbnews.nateimg.co.kr/news90///news.nateimg.co.kr/orgImg/hi/2025/07/23/f9cd166b-12d6-49fa-beb3-ec06783eb8e7.jpg\"/>"
      ],
      "text/plain": [
       "<IPython.core.display.Image object>"
      ]
     },
     "metadata": {},
     "output_type": "display_data"
    },
    {
     "name": "stdout",
     "output_type": "stream",
     "text": [
      "감사원, 옛 성병관리소 부지 매입한 동두천시 직접 감사했다\n",
      "https://news.nate.com/view/20250723n33833?mid=n0400\n",
      "\n"
     ]
    },
    {
     "data": {
      "text/html": [
       "<img src=\"https://thumbnews.nateimg.co.kr/news90///news.nateimg.co.kr/orgImg/ns/2025/07/23/NISI20250723_0001901087_web.jpg\"/>"
      ],
      "text/plain": [
       "<IPython.core.display.Image object>"
      ]
     },
     "metadata": {},
     "output_type": "display_data"
    },
    {
     "name": "stdout",
     "output_type": "stream",
     "text": [
      "포항시, 어르신 주산 경기대회…70세 이상 200여명 참가\n",
      "https://news.nate.com/view/20250723n33832?mid=n0400\n",
      "\n"
     ]
    },
    {
     "data": {
      "text/html": [
       "<img src=\"https://thumbnews.nateimg.co.kr/news90///news.nateimg.co.kr/orgImg/hi/2025/07/23/13b766e6-f649-4e8f-8944-c102ef3d7877.jpg\"/>"
      ],
      "text/plain": [
       "<IPython.core.display.Image object>"
      ]
     },
     "metadata": {},
     "output_type": "display_data"
    },
    {
     "name": "stdout",
     "output_type": "stream",
     "text": [
      "'소비쿠폰 금액별 색상' 논란에…이 대통령 \"인권감수성 부족\" 질타\n",
      "https://news.nate.com/view/20250723n33746?mid=n0400\n",
      "\n",
      "부산, 유망기업 2곳 IPO 지원\n",
      "https://news.nate.com/view/20250723n33826?mid=n0400\n",
      "\n",
      "경남, 고교생 '청소년 꿈 캠프' 운영\n",
      "https://news.nate.com/view/20250723n33824?mid=n0400\n",
      "\n",
      "한수원, 경주 中企에 1120억 저리대출\n",
      "https://news.nate.com/view/20250723n33823?mid=n0400\n",
      "\n"
     ]
    },
    {
     "data": {
      "text/html": [
       "<img src=\"https://thumbnews.nateimg.co.kr/news90///news.nateimg.co.kr/orgImg/cb/2025/07/23/202507231557443084_0.jpg\"/>"
      ],
      "text/plain": [
       "<IPython.core.display.Image object>"
      ]
     },
     "metadata": {},
     "output_type": "display_data"
    },
    {
     "name": "stdout",
     "output_type": "stream",
     "text": [
      "안철수가 윤석열을 들이받지 못한 이유[어텐션 뉴스]\n",
      "https://news.nate.com/view/20250723n33818?mid=n0400\n",
      "\n"
     ]
    },
    {
     "data": {
      "text/html": [
       "<img src=\"https://thumbnews.nateimg.co.kr/news90///news.nateimg.co.kr/orgImg/cb/2025/07/23/202507231756252984_0.jpg\"/>"
      ],
      "text/plain": [
       "<IPython.core.display.Image object>"
      ]
     },
     "metadata": {},
     "output_type": "display_data"
    },
    {
     "name": "stdout",
     "output_type": "stream",
     "text": [
      "충남신보, 수해 中企·소상공인 금융지원…현장 복구활동도\n",
      "https://news.nate.com/view/20250723n33816?mid=n0400\n",
      "\n",
      "경남도, 전국 첫 '우수 문화콘텐츠기업' 인증\n",
      "https://news.nate.com/view/20250723n33814?mid=n0400\n",
      "\n"
     ]
    },
    {
     "data": {
      "text/html": [
       "<img src=\"https://thumbnews.nateimg.co.kr/news90///news.nateimg.co.kr/orgImg/cb/2025/07/23/202507231749582066_0.jpg\"/>"
      ],
      "text/plain": [
       "<IPython.core.display.Image object>"
      ]
     },
     "metadata": {},
     "output_type": "display_data"
    },
    {
     "name": "stdout",
     "output_type": "stream",
     "text": [
      "속초시, 여름철 '전지훈련지' 주목…지역경제 활성화 기대\n",
      "https://news.nate.com/view/20250723n33809?mid=n0400\n",
      "\n"
     ]
    },
    {
     "data": {
      "text/html": [
       "<img src=\"https://thumbnews.nateimg.co.kr/news90///news.nateimg.co.kr/orgImg/hk/2025/07/23/01.41201099.1.jpg\"/>"
      ],
      "text/plain": [
       "<IPython.core.display.Image object>"
      ]
     },
     "metadata": {},
     "output_type": "display_data"
    },
    {
     "name": "stdout",
     "output_type": "stream",
     "text": [
      "\"밭에 다녀올게\" 60대 남성, 농수로서 숨진 채 발견…부검 의뢰\n",
      "https://news.nate.com/view/20250723n33807?mid=n0400\n",
      "\n"
     ]
    },
    {
     "data": {
      "text/html": [
       "<img src=\"https://thumbnews.nateimg.co.kr/news90///news.nateimg.co.kr/orgImg/sg/2025/07/23/20250723510849.jpg\"/>"
      ],
      "text/plain": [
       "<IPython.core.display.Image object>"
      ]
     },
     "metadata": {},
     "output_type": "display_data"
    },
    {
     "name": "stdout",
     "output_type": "stream",
     "text": [
      "한국공항공사, 가스안전사고 예방 업무협약 맺어\n",
      "https://news.nate.com/view/20250723n33806?mid=n0400\n",
      "\n"
     ]
    },
    {
     "data": {
      "text/html": [
       "<img src=\"https://thumbnews.nateimg.co.kr/news90///news.nateimg.co.kr/orgImg/hk/2025/07/23/AA.41201559.1.jpg\"/>"
      ],
      "text/plain": [
       "<IPython.core.display.Image object>"
      ]
     },
     "metadata": {},
     "output_type": "display_data"
    },
    {
     "name": "stdout",
     "output_type": "stream",
     "text": [
      "성남 '1cm 단위 전자지도', 구축사업 공모 최종 선정\n",
      "https://news.nate.com/view/20250723n33786?mid=n0400\n",
      "\n"
     ]
    },
    {
     "data": {
      "text/html": [
       "<img src=\"https://thumbnews.nateimg.co.kr/news90///news.nateimg.co.kr/orgImg/na/2025/07/23/6575022_high.jpg\"/>"
      ],
      "text/plain": [
       "<IPython.core.display.Image object>"
      ]
     },
     "metadata": {},
     "output_type": "display_data"
    },
    {
     "name": "stdout",
     "output_type": "stream",
     "text": [
      "천안 특성화고 교사, 조리기능사 자격시험 부정 의혹\n",
      "https://news.nate.com/view/20250723n28494?mid=n0400\n",
      "\n",
      "======> https://news.nate.com/recent?mid=n0500 세계 뉴스 <======\n"
     ]
    },
    {
     "data": {
      "text/html": [
       "<img src=\"https://thumbnews.nateimg.co.kr/news90///news.nateimg.co.kr/orgImg/yt/2025/07/23/AKR20250723150500104_01_i.jpg\"/>"
      ],
      "text/plain": [
       "<IPython.core.display.Image object>"
      ]
     },
     "metadata": {},
     "output_type": "display_data"
    },
    {
     "name": "stdout",
     "output_type": "stream",
     "text": [
      "발리서 패러글라이딩하던 한국인 2명 바다로 추락해 숨져\n",
      "https://news.nate.com/view/20250723n33831?mid=n0500\n",
      "\n"
     ]
    },
    {
     "data": {
      "text/html": [
       "<img src=\"https://thumbnews.nateimg.co.kr/news90///news.nateimg.co.kr/orgImg/cb/2025/07/23/202507231759307321_0.jpg\"/>"
      ],
      "text/plain": [
       "<IPython.core.display.Image object>"
      ]
     },
     "metadata": {},
     "output_type": "display_data"
    },
    {
     "name": "stdout",
     "output_type": "stream",
     "text": [
      "일본, 美에 쌀 내주고 車 관세 낮췄다…이제 한국은?[박지환의 뉴스톡]\n",
      "https://news.nate.com/view/20250723n33820?mid=n0500\n",
      "\n",
      "월가 중국 경계령…\"中 출장가서 회사폰 쓰지마\"\n",
      "https://news.nate.com/view/20250723n33811?mid=n0500\n",
      "\n"
     ]
    },
    {
     "data": {
      "text/html": [
       "<img src=\"https://thumbnews.nateimg.co.kr/news90///news.nateimg.co.kr/orgImg/mk/2025/07/23/20250724_01110108000004_L00.jpg\"/>"
      ],
      "text/plain": [
       "<IPython.core.display.Image object>"
      ]
     },
     "metadata": {},
     "output_type": "display_data"
    },
    {
     "name": "stdout",
     "output_type": "stream",
     "text": [
      "쏟아지는 사퇴 보도에…이시바 \"진퇴 논의 않겠다\"\n",
      "https://news.nate.com/view/20250723n33810?mid=n0500\n",
      "\n"
     ]
    },
    {
     "data": {
      "text/html": [
       "<img src=\"https://thumbnews.nateimg.co.kr/news90///news.nateimg.co.kr/orgImg/hr/2025/07/23/news-p.v1.20250610.03eceeece97c42d0ab3f62338f8de157_P1.jpg\"/>"
      ],
      "text/plain": [
       "<IPython.core.display.Image object>"
      ]
     },
     "metadata": {},
     "output_type": "display_data"
    },
    {
     "name": "stdout",
     "output_type": "stream",
     "text": [
      "中, '3차 美中무역회담' 개최 확인…관세 인하 연장 등 논의 전망\n",
      "https://news.nate.com/view/20250723n33808?mid=n0500\n",
      "\n"
     ]
    },
    {
     "data": {
      "text/html": [
       "<img src=\"https://thumbnews.nateimg.co.kr/news90///news.nateimg.co.kr/orgImg/mk/2025/07/23/20250724_01110108000002_L00.jpg\"/>"
      ],
      "text/plain": [
       "<IPython.core.display.Image object>"
      ]
     },
     "metadata": {},
     "output_type": "display_data"
    },
    {
     "name": "stdout",
     "output_type": "stream",
     "text": [
      "트럼프 결혼식 간 엡스타인 사진까지 나왔다…밀착 스캔들 美정계 '강타'\n",
      "https://news.nate.com/view/20250723n33804?mid=n0500\n",
      "\n"
     ]
    },
    {
     "data": {
      "text/html": [
       "<img src=\"https://thumbnews.nateimg.co.kr/news90///news.nateimg.co.kr/orgImg/jt/2025/07/23/be232965-a07e-4b6f-beef-5a094dc109f0.jpg\"/>"
      ],
      "text/plain": [
       "<IPython.core.display.Image object>"
      ]
     },
     "metadata": {},
     "output_type": "display_data"
    },
    {
     "name": "stdout",
     "output_type": "stream",
     "text": [
      "일 언론 '퇴진 결심' 보도에 이시바 총리 \"그런 적 없다\" 일축\n",
      "https://news.nate.com/view/20250723n24852?mid=n0500\n",
      "\n"
     ]
    },
    {
     "data": {
      "text/html": [
       "<img src=\"https://thumbnews.nateimg.co.kr/news90///news.nateimg.co.kr/orgImg/jo/2025/07/23/8f73cf74-fd50-4937-bf9f-9a4c236bb0df.jpg\"/>"
      ],
      "text/plain": [
       "<IPython.core.display.Image object>"
      ]
     },
     "metadata": {},
     "output_type": "display_data"
    },
    {
     "name": "stdout",
     "output_type": "stream",
     "text": [
      "스타벅스, 中서 무료 스터디룸 운영 \"주문 안해도 된다\"\n",
      "https://news.nate.com/view/20250723n33789?mid=n0500\n",
      "\n"
     ]
    },
    {
     "data": {
      "text/html": [
       "<img src=\"https://thumbnews.nateimg.co.kr/news90///news.nateimg.co.kr/orgImg/ch/2025/07/23/ch_1753261326335_982431_0.jpg\"/>"
      ],
      "text/plain": [
       "<IPython.core.display.Image object>"
      ]
     },
     "metadata": {},
     "output_type": "display_data"
    },
    {
     "name": "stdout",
     "output_type": "stream",
     "text": [
      "우크라, 843억원 짜리 미라주 전투기 추락\n",
      "https://news.nate.com/view/20250723n31935?mid=n0500\n",
      "\n"
     ]
    },
    {
     "data": {
      "text/html": [
       "<img src=\"https://thumbnews.nateimg.co.kr/news90///news.nateimg.co.kr/orgImg/sv/2025/07/23/202094236_700.jpg\"/>"
      ],
      "text/plain": [
       "<IPython.core.display.Image object>"
      ]
     },
     "metadata": {},
     "output_type": "display_data"
    },
    {
     "name": "stdout",
     "output_type": "stream",
     "text": [
      "\"너네가 중국과 잘 지내든 말든!\" 백악관 찾았지만 '몽땅' 챙긴 트럼프…'아시아 동맹국'도 가차없더니 '민감 질문'에 (트럼프 NOW)\n",
      "https://news.nate.com/view/20250723n33738?mid=n0500\n",
      "\n"
     ]
    },
    {
     "data": {
      "text/html": [
       "<img src=\"https://thumbnews.nateimg.co.kr/news90///news.nateimg.co.kr/orgImg/sv/2025/07/23/202094222_700.jpg\"/>"
      ],
      "text/plain": [
       "<IPython.core.display.Image object>"
      ]
     },
     "metadata": {},
     "output_type": "display_data"
    },
    {
     "name": "stdout",
     "output_type": "stream",
     "text": [
      "[오그�N] 엔지니어 군대 키우는 중국 vs 의대로 인재 몰리는 한국\n",
      "https://news.nate.com/view/20250723n33725?mid=n0500\n",
      "\n"
     ]
    },
    {
     "data": {
      "text/html": [
       "<img src=\"https://thumbnews.nateimg.co.kr/news90///news.nateimg.co.kr/orgImg/kh/2025/07/23/news-p.v1.20250723.6938986cb28d470dbe6cbf60e06a923c_P1.png\"/>"
      ],
      "text/plain": [
       "<IPython.core.display.Image object>"
      ]
     },
     "metadata": {},
     "output_type": "display_data"
    },
    {
     "name": "stdout",
     "output_type": "stream",
     "text": [
      "중국 신설 이공계 연구중심대학 입시에서 돌풍…\"강력한 초기 투자\"\n",
      "https://news.nate.com/view/20250723n33680?mid=n0500\n",
      "\n"
     ]
    },
    {
     "data": {
      "text/html": [
       "<img src=\"https://thumbnews.nateimg.co.kr/news90///news.nateimg.co.kr/orgImg/mt/2025/07/23/2025072316020561371_1.jpg\"/>"
      ],
      "text/plain": [
       "<IPython.core.display.Image object>"
      ]
     },
     "metadata": {},
     "output_type": "display_data"
    },
    {
     "name": "stdout",
     "output_type": "stream",
     "text": [
      "24명 군인 숨진 '국경충돌' 5년만에…인도 \"중국 관광비자 발급\"\n",
      "https://news.nate.com/view/20250723n33629?mid=n0500\n",
      "\n"
     ]
    },
    {
     "data": {
      "text/html": [
       "<img src=\"https://thumbnews.nateimg.co.kr/news90///news.nateimg.co.kr/orgImg/kh/2025/07/23/news-p.v1.20250723.e17881b8e23047c4b58ef3a4f9b1fbf5_P1.png\"/>"
      ],
      "text/plain": [
       "<IPython.core.display.Image object>"
      ]
     },
     "metadata": {},
     "output_type": "display_data"
    },
    {
     "name": "stdout",
     "output_type": "stream",
     "text": [
      "쌀·자동차 수입 늘리고 760조원 투자…미국에 선물 보따리 안기고 급한 불 끈 일본\n",
      "https://news.nate.com/view/20250723n32251?mid=n0500\n",
      "\n"
     ]
    },
    {
     "data": {
      "text/html": [
       "<img src=\"https://thumbnews.nateimg.co.kr/news90///news.nateimg.co.kr/orgImg/na/2025/07/23/7381584_high.jpg\"/>"
      ],
      "text/plain": [
       "<IPython.core.display.Image object>"
      ]
     },
     "metadata": {},
     "output_type": "display_data"
    },
    {
     "name": "stdout",
     "output_type": "stream",
     "text": [
      "\"트럼프, 美빅테크 보호에 무역전쟁 활용…디지털 세금·규제 철회 노려\"\n",
      "https://news.nate.com/view/20250723n33572?mid=n0500\n",
      "\n"
     ]
    },
    {
     "data": {
      "text/html": [
       "<img src=\"https://thumbnews.nateimg.co.kr/news90///news.nateimg.co.kr/orgImg/yt/2025/07/23/PTA20240831023501009_P2.jpg\"/>"
      ],
      "text/plain": [
       "<IPython.core.display.Image object>"
      ]
     },
     "metadata": {},
     "output_type": "display_data"
    },
    {
     "name": "stdout",
     "output_type": "stream",
     "text": [
      "러시아, 독일 제치고 유럽 맥주 생산량 1위\n",
      "https://news.nate.com/view/20250723n33546?mid=n0500\n",
      "\n"
     ]
    },
    {
     "data": {
      "text/html": [
       "<img src=\"https://thumbnews.nateimg.co.kr/news90///news.nateimg.co.kr/orgImg/ns/2025/07/23/NISI20250514_0000336097_web.jpg\"/>"
      ],
      "text/plain": [
       "<IPython.core.display.Image object>"
      ]
     },
     "metadata": {},
     "output_type": "display_data"
    },
    {
     "name": "stdout",
     "output_type": "stream",
     "text": [
      "中 \"허리펑 부총리, 27∼30일 스웨덴 방문…美와 무역회담\"\n",
      "https://news.nate.com/view/20250723n33517?mid=n0500\n",
      "\n"
     ]
    },
    {
     "data": {
      "text/html": [
       "<img src=\"https://thumbnews.nateimg.co.kr/news90///news.nateimg.co.kr/orgImg/sv/2025/07/23/202094188_700.jpg\"/>"
      ],
      "text/plain": [
       "<IPython.core.display.Image object>"
      ]
     },
     "metadata": {},
     "output_type": "display_data"
    },
    {
     "name": "stdout",
     "output_type": "stream",
     "text": [
      "감옥 대신 헬스장?…도둑에 내려진 '참교육' 뭐길래\n",
      "https://news.nate.com/view/20250723n33513?mid=n0500\n",
      "\n"
     ]
    },
    {
     "data": {
      "text/html": [
       "<img src=\"https://thumbnews.nateimg.co.kr/news90///news.nateimg.co.kr/orgImg/at/2025/07/23/2025072301002300200137471.jpg\"/>"
      ],
      "text/plain": [
       "<IPython.core.display.Image object>"
      ]
     },
     "metadata": {},
     "output_type": "display_data"
    },
    {
     "name": "stdout",
     "output_type": "stream",
     "text": [
      "트럼프 \"머지 않은 미래에 시진핑 만나러 중국 방문할 수도\"\n",
      "https://news.nate.com/view/20250723n33477?mid=n0500\n",
      "\n"
     ]
    },
    {
     "data": {
      "text/html": [
       "<img src=\"https://thumbnews.nateimg.co.kr/news90///news.nateimg.co.kr/orgImg/mk/2025/07/23/news-p.v1.20250723.3741e9b730cc4ca48d452f5a06557de4_P1.png\"/>"
      ],
      "text/plain": [
       "<IPython.core.display.Image object>"
      ]
     },
     "metadata": {},
     "output_type": "display_data"
    },
    {
     "name": "stdout",
     "output_type": "stream",
     "text": [
      "\"30억이던 금괴, 410억으로 상승\"…일본서 전시 그만둔다는데\n",
      "https://news.nate.com/view/20250723n33465?mid=n0500\n",
      "\n",
      "======> https://news.nate.com/recent?mid=n0600 IT/과학 뉴스 <======\n",
      "베이조스의 아마존도 美 '골든돔' 참여 타진 스페이스X 독점 균열\n",
      "https://news.nate.com/view/20250723n33805?mid=n0600\n",
      "\n"
     ]
    },
    {
     "data": {
      "text/html": [
       "<img src=\"https://thumbnews.nateimg.co.kr/news90///news.nateimg.co.kr/orgImg/cz/2025/07/23/cz_1753261324794_654834_0.jpg\"/>"
      ],
      "text/plain": [
       "<IPython.core.display.Image object>"
      ]
     },
     "metadata": {},
     "output_type": "display_data"
    },
    {
     "name": "stdout",
     "output_type": "stream",
     "text": [
      "네이버 신분증 출시…앱에 주민등록증·운전면허증 담긴다\n",
      "https://news.nate.com/view/20250723n33788?mid=n0600\n",
      "\n"
     ]
    },
    {
     "data": {
      "text/html": [
       "<img src=\"https://thumbnews.nateimg.co.kr/news90///news.nateimg.co.kr/orgImg/hi/2025/07/23/46219416-eba5-4a1c-aeb0-d5f8709ccef0.jpg\"/>"
      ],
      "text/plain": [
       "<IPython.core.display.Image object>"
      ]
     },
     "metadata": {},
     "output_type": "display_data"
    },
    {
     "name": "stdout",
     "output_type": "stream",
     "text": [
      "방통위는 현장 점검 나갔지만…시장 과열 막을 지침은 '아직'\n",
      "https://news.nate.com/view/20250723n33713?mid=n0600\n",
      "\n"
     ]
    },
    {
     "data": {
      "text/html": [
       "<img src=\"https://thumbnews.nateimg.co.kr/news90///news.nateimg.co.kr/orgImg/hk/2025/07/23/01.41201700.1.jpg\"/>"
      ],
      "text/plain": [
       "<IPython.core.display.Image object>"
      ]
     },
     "metadata": {},
     "output_type": "display_data"
    },
    {
     "name": "stdout",
     "output_type": "stream",
     "text": [
      "엔에이백신연구소, 펩타이드 기반 결핵 백신 효과 입증\n",
      "https://news.nate.com/view/20250723n33555?mid=n0600\n",
      "\n"
     ]
    },
    {
     "data": {
      "text/html": [
       "<img src=\"https://thumbnews.nateimg.co.kr/news90///news.nateimg.co.kr/orgImg/dg/2025/07/23/202507231648320838243da15d9d21839820252.jpg\"/>"
      ],
      "text/plain": [
       "<IPython.core.display.Image object>"
      ]
     },
     "metadata": {},
     "output_type": "display_data"
    },
    {
     "name": "stdout",
     "output_type": "stream",
     "text": [
      "에이치랩, 네오핀 이더리움 및 카이아 계열 지갑 사업부문 이관\n",
      "https://news.nate.com/view/20250723n33508?mid=n0600\n",
      "\n"
     ]
    },
    {
     "data": {
      "text/html": [
       "<img src=\"https://thumbnews.nateimg.co.kr/news90///news.nateimg.co.kr/orgImg/dg/2025/07/23/202507231656020003543da15d9d21839820252.jpg\"/>"
      ],
      "text/plain": [
       "<IPython.core.display.Image object>"
      ]
     },
     "metadata": {},
     "output_type": "display_data"
    },
    {
     "name": "stdout",
     "output_type": "stream",
     "text": [
      "스튜디오비사이드, VC 및 금융기관 투자 유치\n",
      "https://news.nate.com/view/20250723n33504?mid=n0600\n",
      "\n"
     ]
    },
    {
     "data": {
      "text/html": [
       "<img src=\"https://thumbnews.nateimg.co.kr/news90///news.nateimg.co.kr/orgImg/cz/2025/07/23/cz_1753260905853_605396_0.jpg\"/>"
      ],
      "text/plain": [
       "<IPython.core.display.Image object>"
      ]
     },
     "metadata": {},
     "output_type": "display_data"
    },
    {
     "name": "stdout",
     "output_type": "stream",
     "text": [
      "[바이오게시판] 셀트리온, 수재민 지원 위해 5억 기부 등\n",
      "https://news.nate.com/view/20250723n33454?mid=n0600\n",
      "\n"
     ]
    },
    {
     "data": {
      "text/html": [
       "<img src=\"https://thumbnews.nateimg.co.kr/news90///news.nateimg.co.kr/orgImg/in/2025/07/23/0a2381d0d67cc5.jpg\"/>"
      ],
      "text/plain": [
       "<IPython.core.display.Image object>"
      ]
     },
     "metadata": {},
     "output_type": "display_data"
    },
    {
     "name": "stdout",
     "output_type": "stream",
     "text": [
      "페이레터-다윈KS, '디지털자산 결제서비스' 전략적 협약\n",
      "https://news.nate.com/view/20250723n33192?mid=n0600\n",
      "\n"
     ]
    },
    {
     "data": {
      "text/html": [
       "<img src=\"https://thumbnews.nateimg.co.kr/news90///news.nateimg.co.kr/orgImg/ed/2025/07/23/PS25072301148.jpg\"/>"
      ],
      "text/plain": [
       "<IPython.core.display.Image object>"
      ]
     },
     "metadata": {},
     "output_type": "display_data"
    },
    {
     "name": "stdout",
     "output_type": "stream",
     "text": [
      "엔에이백신연구소, 펩타이드 기반 결핵 예방백신 연구 국제학술제 게재\n",
      "https://news.nate.com/view/20250723n31962?mid=n0600\n",
      "\n"
     ]
    },
    {
     "data": {
      "text/html": [
       "<img src=\"https://thumbnews.nateimg.co.kr/news90///news.nateimg.co.kr/orgImg/cz/2025/07/23/cz_1753260544249_933596_0.jpg\"/>"
      ],
      "text/plain": [
       "<IPython.core.display.Image object>"
      ]
     },
     "metadata": {},
     "output_type": "display_data"
    },
    {
     "name": "stdout",
     "output_type": "stream",
     "text": [
      "약 필요할 때만 '스위치 온'…세포 속에 넣어둔 단백질·mRNA, 빛으로 꺼내 쓴다\n",
      "https://news.nate.com/view/20250723n33171?mid=n0600\n",
      "\n"
     ]
    },
    {
     "data": {
      "text/html": [
       "<img src=\"https://thumbnews.nateimg.co.kr/news90///news.nateimg.co.kr/orgImg/hi/2025/07/23/eaedb320-49aa-4aac-b17e-7220110275f7.png\"/>"
      ],
      "text/plain": [
       "<IPython.core.display.Image object>"
      ]
     },
     "metadata": {},
     "output_type": "display_data"
    },
    {
     "name": "stdout",
     "output_type": "stream",
     "text": [
      "영화 '해바라기' 강석범 감독 \"집에서 AI 활용해 블록버스터 만들 날 머지않았다\"\n",
      "https://news.nate.com/view/20250723n32834?mid=n0600\n",
      "\n"
     ]
    },
    {
     "data": {
      "text/html": [
       "<img src=\"https://thumbnews.nateimg.co.kr/news90///news.nateimg.co.kr/orgImg/in/2025/07/23/3dee0a6bc9756b.jpg\"/>"
      ],
      "text/plain": [
       "<IPython.core.display.Image object>"
      ]
     },
     "metadata": {},
     "output_type": "display_data"
    },
    {
     "name": "stdout",
     "output_type": "stream",
     "text": [
      "민생회복 소비쿠폰 어디서 사용?⋯네이버·카카오 \"지도에서 안내 준비\"\n",
      "https://news.nate.com/view/20250723n31772?mid=n0600\n",
      "\n"
     ]
    },
    {
     "data": {
      "text/html": [
       "<img src=\"https://thumbnews.nateimg.co.kr/news90///news.nateimg.co.kr/orgImg/mk/2025/07/23/news-p.v1.20250723.23655c08563d45fca3dc96d1d50905f4_P1.png\"/>"
      ],
      "text/plain": [
       "<IPython.core.display.Image object>"
      ]
     },
     "metadata": {},
     "output_type": "display_data"
    },
    {
     "name": "stdout",
     "output_type": "stream",
     "text": [
      "메타發 인재 전쟁 후폭풍…실리콘밸리에 남은 불안\n",
      "https://news.nate.com/view/20250723n32665?mid=n0600\n",
      "\n"
     ]
    },
    {
     "data": {
      "text/html": [
       "<img src=\"https://thumbnews.nateimg.co.kr/news90///news.nateimg.co.kr/orgImg/dg/2025/07/23/202507231652200858643da15d9d21839820252.jpg\"/>"
      ],
      "text/plain": [
       "<IPython.core.display.Image object>"
      ]
     },
     "metadata": {},
     "output_type": "display_data"
    },
    {
     "name": "stdout",
     "output_type": "stream",
     "text": [
      "키보토스가 용산으로…'블루 아카이브' 공식 테마 카페 8월9일 오픈\n",
      "https://news.nate.com/view/20250723n33123?mid=n0600\n",
      "\n"
     ]
    },
    {
     "data": {
      "text/html": [
       "<img src=\"https://thumbnews.nateimg.co.kr/news90///news.nateimg.co.kr/orgImg/mk/2025/07/23/20250724_01110116000005_L00.jpg\"/>"
      ],
      "text/plain": [
       "<IPython.core.display.Image object>"
      ]
     },
     "metadata": {},
     "output_type": "display_data"
    },
    {
     "name": "stdout",
     "output_type": "stream",
     "text": [
      "한국 IT로 인도네시아 전국체전 운영\n",
      "https://news.nate.com/view/20250723n32984?mid=n0600\n",
      "\n",
      "LG유플, 외국인 시장 공략 신규 전용요금제 7종 출시\n",
      "https://news.nate.com/view/20250723n32969?mid=n0600\n",
      "\n",
      "지슨, 무선해킹 탐지 시스템 올해 조달청 우수제품 지정\n",
      "https://news.nate.com/view/20250723n32968?mid=n0600\n",
      "\n"
     ]
    },
    {
     "data": {
      "text/html": [
       "<img src=\"https://thumbnews.nateimg.co.kr/news90///news.nateimg.co.kr/orgImg/mk/2025/07/23/20250724_01110116000001_L00.jpg\"/>"
      ],
      "text/plain": [
       "<IPython.core.display.Image object>"
      ]
     },
     "metadata": {},
     "output_type": "display_data"
    },
    {
     "name": "stdout",
     "output_type": "stream",
     "text": [
      "\"내 동료 1천억 받고 이직\"…실리콘밸리 포모증후군\n",
      "https://news.nate.com/view/20250723n32967?mid=n0600\n",
      "\n"
     ]
    },
    {
     "data": {
      "text/html": [
       "<img src=\"https://thumbnews.nateimg.co.kr/news90///news.nateimg.co.kr/orgImg/dg/2025/07/23/202507231700440876343da15d9d21839820252.jpg\"/>"
      ],
      "text/plain": [
       "<IPython.core.display.Image object>"
      ]
     },
     "metadata": {},
     "output_type": "display_data"
    },
    {
     "name": "stdout",
     "output_type": "stream",
     "text": [
      "애니팡2, 인기 IP '와다다곰' 제휴 콘텐츠 선보여\n",
      "https://news.nate.com/view/20250723n32837?mid=n0600\n",
      "\n"
     ]
    },
    {
     "data": {
      "text/html": [
       "<img src=\"https://thumbnews.nateimg.co.kr/news90///news.nateimg.co.kr/orgImg/ii/2025/07/23/ba1416d6a06a46d3-thumbnail-1920x1080-70.jpg\"/>"
      ],
      "text/plain": [
       "<IPython.core.display.Image object>"
      ]
     },
     "metadata": {},
     "output_type": "display_data"
    },
    {
     "name": "stdout",
     "output_type": "stream",
     "text": [
      "[IT애정남] 외장하드만 꽂으면 느려지는 키보드, 원인이 뭘까요?\n",
      "https://news.nate.com/view/20250723n32806?mid=n0600\n",
      "\n"
     ]
    }
   ],
   "source": [
    "print_news()\n"
   ]
  }
 ],
 "metadata": {
  "kernelspec": {
   "display_name": "base",
   "language": "python",
   "name": "python3"
  },
  "language_info": {
   "codemirror_mode": {
    "name": "ipython",
    "version": 3
   },
   "file_extension": ".py",
   "mimetype": "text/x-python",
   "name": "python",
   "nbconvert_exporter": "python",
   "pygments_lexer": "ipython3",
   "version": "3.12.7"
  }
 },
 "nbformat": 4,
 "nbformat_minor": 5
}
