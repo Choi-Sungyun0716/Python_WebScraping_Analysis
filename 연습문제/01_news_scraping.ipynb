{
 "cells": [
  {
   "cell_type": "code",
   "execution_count": 23,
   "id": "6387b795",
   "metadata": {},
   "outputs": [
    {
     "name": "stdout",
     "output_type": "stream",
     "text": [
      "https://news.daum.net/economy\n",
      "<class 'requests.models.Response'>\n",
      "200\n",
      "<class 'bs4.element.ResultSet'> 9\n",
      "https://v.daum.net/v/20250722175106335\n",
      "“100년 뒤 백만 이상 日 도시 11개서 4개로 뚝...한국은 더 심할 것”\n",
      "https://v.daum.net/v/20250722174746199\n",
      "예금자보호 1억 시대…내 돈 어디에 맡길까?\n",
      "https://v.daum.net/v/20250722174509108\n",
      "취임식 생략하고 현장 찾은 환경장관 \"빈틈없는 홍수대응 구축\"\n",
      "https://v.daum.net/v/20250722174241984\n",
      "전재수 해수 후보자 조선업 '신경전'에 김정관 산업장관 '신중론'\n",
      "https://v.daum.net/v/20250722171546881\n",
      "식재료비 뛰고 사장님은 늙고…동네 백반집이 사라진다\n",
      "https://v.daum.net/v/20250722171502827\n",
      "“흑자 전환 노린다” 국내외 의료 AI, 실적 경쟁 치열\n",
      "https://v.daum.net/v/20250722164636610\n",
      "한국블록체인스타트업협회 조원희 회장 취임…산업 융합과 글로벌 진출의 ‘종합 허브’ 선언\n",
      "https://v.daum.net/v/20250722164503546\n",
      "범여권 '자사주 소각 의무화' 공세에…野 '포이즌필 제도화' 맞대응\n",
      "https://v.daum.net/v/20250722164042349\n",
      "깐깐해진 美 비자 심사…\"입국 리스크 줄이려면 전략적 접근 필요”\n"
     ]
    }
   ],
   "source": [
    "import requests\n",
    "from bs4 import BeautifulSoup\n",
    "\n",
    "url = 'https://news.daum.net/economy'\n",
    "print(url)\n",
    "\n",
    "# 요청 헤더 설정\n",
    "req_header = {\n",
    "    \"user-agent\": \"Mozilla/5.0 (Windows NT 10.0; Win64; x64) AppleWebKit/537.36 (KHTML, like Gecko) Chrome/138.0.0.0 Safari/537.36\"\n",
    "}\n",
    "\n",
    "\n",
    "# requests 의 get() 함수 호출하기 \n",
    "res = requests.get(url, headers=req_header)\n",
    "res.encoding = 'utf-8'\n",
    "print(type(res))\n",
    "print(res.status_code) #200번대면 오류 없음\n",
    "\n",
    "\n",
    "\n",
    "# 응답(response)이 OK 이면\n",
    "# 응답 (response)에서 text 추출\n",
    "if(res.ok):\n",
    "    html = res.text \n",
    "    #print(html)\n",
    "    # BeautifulSoup 객체 생성  \n",
    "    soup = BeautifulSoup(html, \"html.parser\")\n",
    "    #print(soup)\n",
    "    # CSS 선택자\n",
    "    a_tags = soup.select(\"ul.list_newsheadline2 li \") \n",
    "    \n",
    "    print(type(a_tags), len(a_tags))\n",
    "\n",
    "\n",
    "\n",
    "    for li_tag in a_tags:\n",
    "        if(li_tag.text):\n",
    "            a_tag = li_tag.find('a')\n",
    "            link = a_tag[\"href\"]\n",
    "\n",
    "            strong_tag = li_tag.select_one('div.cont_thumb strong.tit_txt')\n",
    "            title = strong_tag.text\n",
    "            \n",
    "            print(link)\n",
    "            print(title)\n",
    "            \n",
    "# 응답(response)이 Error 이면 status code 출력 \n",
    "else:\n",
    "      print(f\"Error Code = {res.status_code}\") \n"
   ]
  }
 ],
 "metadata": {
  "kernelspec": {
   "display_name": "base",
   "language": "python",
   "name": "python3"
  },
  "language_info": {
   "codemirror_mode": {
    "name": "ipython",
    "version": 3
   },
   "file_extension": ".py",
   "mimetype": "text/x-python",
   "name": "python",
   "nbconvert_exporter": "python",
   "pygments_lexer": "ipython3",
   "version": "3.12.7"
  }
 },
 "nbformat": 4,
 "nbformat_minor": 5
}
